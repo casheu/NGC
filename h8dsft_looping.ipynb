{
 "cells": [
  {
   "cell_type": "markdown",
   "metadata": {},
   "source": [
    "# Assignment  Instructions"
   ]
  },
  {
   "cell_type": "markdown",
   "metadata": {},
   "source": [
    "-Buatlah sebuah list dengan value berupa:<br>\n",
    "numbers = [951,402,984,651,360,69,408,<br> 319,601,485,980,507,725,547,544,615,<br> 83,165,141,501,263,617,865,575,219,<br> 390,984,592,236,105,942,941,386,462,<br> 47,418,907,344,236,375,823,566,597,<br> 978,328,615,953,345,399,162,758,219,<br> 918,237,412,566,826,248,866,950,626,949]<br>\n",
    "-Loop dan print semua angka genap dari list angka diatas dengan urutan yang sama.<br>\n",
    "-Jangan mencetak angka apapun yang muncul setelah angka 918 berdasarkan posisi angka tersebut pada list diatas.<br>\n",
    "-Tampilkan pesan ”Done” setelah looping berakhir."
   ]
  },
  {
   "cell_type": "markdown",
   "metadata": {},
   "source": [
    "Buatlah sebuah list"
   ]
  },
  {
   "cell_type": "code",
   "execution_count": 3,
   "metadata": {},
   "outputs": [
    {
     "data": {
      "text/plain": [
       "[951, 402, 984, 651, 360, 69, 408, 319, 601, 485]"
      ]
     },
     "execution_count": 3,
     "metadata": {},
     "output_type": "execute_result"
    }
   ],
   "source": [
    "list = [951,402,984,651,360,69,408,319,601,485,980,507,725,547,544,615,83,165,141,501,263,617,865,575,219,390,984,592,236,105,942,941,386,462,47,418,907,344,236,375,823,566,597,978,328,615,953,345,399,162,758,219,918,237,412,566,826,248,866,950,626,949]\n",
    "list[0:10]"
   ]
  },
  {
   "cell_type": "markdown",
   "metadata": {},
   "source": [
    "Loop dan print semua angka genap dari list angka diatas dengan urutan yang sama"
   ]
  },
  {
   "cell_type": "code",
   "execution_count": 6,
   "metadata": {},
   "outputs": [
    {
     "name": "stdout",
     "output_type": "stream",
     "text": [
      "402 984 360 408 980 544 390 984 592 236 942 386 462 418 344 236 566 978 328 162 758 918 412 566 826 248 866 950 626 "
     ]
    }
   ],
   "source": [
    "for a in list:\n",
    "    if a % 2 == 0:\n",
    "        print(a, end=' ')"
   ]
  },
  {
   "cell_type": "markdown",
   "metadata": {},
   "source": [
    "Jangan mencetak angka apapun yang muncul setelah angka 918 berdasarkan posisi angka tersebut pada list diatas"
   ]
  },
  {
   "cell_type": "code",
   "execution_count": 8,
   "metadata": {},
   "outputs": [
    {
     "name": "stdout",
     "output_type": "stream",
     "text": [
      "402 984 360 408 980 544 390 984 592 236 942 386 462 418 344 236 566 978 328 162 758 "
     ]
    }
   ],
   "source": [
    "x = 918\n",
    "temp = numbers.index(x)\n",
    "list2 = (numbers[:temp])\n",
    "\n",
    "for a in list2:\n",
    "    if a % 2 == 0:\n",
    "        print(a, end=' ')"
   ]
  },
  {
   "cell_type": "markdown",
   "metadata": {},
   "source": [
    "Tampilkanpesan ”Done” setelah looping berakhir."
   ]
  },
  {
   "cell_type": "code",
   "execution_count": 9,
   "metadata": {},
   "outputs": [
    {
     "name": "stdout",
     "output_type": "stream",
     "text": [
      "402 984 360 408 980 544 390 984 592 236 942 386 462 418 344 236 566 978 328 162 758 \n",
      "done\n"
     ]
    }
   ],
   "source": [
    "x = 918\n",
    "temp = numbers.index(x)\n",
    "list2 = (numbers[:temp])\n",
    "\n",
    "for a in list2:\n",
    "    if a % 2 == 0:\n",
    "        print(a, end=' ')\n",
    "print('\\ndone')"
   ]
  }
 ],
 "metadata": {
  "kernelspec": {
   "display_name": "Python 3.10.7 64-bit (microsoft store)",
   "language": "python",
   "name": "python3"
  },
  "language_info": {
   "codemirror_mode": {
    "name": "ipython",
    "version": 3
   },
   "file_extension": ".py",
   "mimetype": "text/x-python",
   "name": "python",
   "nbconvert_exporter": "python",
   "pygments_lexer": "ipython3",
   "version": "3.10.7"
  },
  "orig_nbformat": 4,
  "vscode": {
   "interpreter": {
    "hash": "66eba28a75a64fbe1a9b9c30d27f7c856726c51cbbef86297708eae4ce175db0"
   }
  }
 },
 "nbformat": 4,
 "nbformat_minor": 2
}
