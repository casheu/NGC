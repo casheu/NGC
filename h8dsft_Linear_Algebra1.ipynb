{
 "cells": [
  {
   "cell_type": "markdown",
   "metadata": {},
   "source": [
    "# Assignment  Instructions"
   ]
  },
  {
   "cell_type": "markdown",
   "metadata": {},
   "source": [
    "Non-Graded Assignment ini dibuat guna mengevaluasi pembelajaran pada Hacktiv8 Data Science Fulltime Program khususnya pada konsep Linear Algebra."
   ]
  },
  {
   "cell_type": "markdown",
   "metadata": {},
   "source": [
    "1. Buatlah vektor di bawah ini dengan Python:<br>\n",
    " 17<br>22<br>19"
   ]
  },
  {
   "cell_type": "code",
   "execution_count": 2,
   "metadata": {},
   "outputs": [
    {
     "name": "stdout",
     "output_type": "stream",
     "text": [
      "[17 22 19]\n"
     ]
    }
   ],
   "source": [
    "# Import numpy sebagai np\n",
    "import numpy as np \n",
    "\n",
    "# Membuat list\n",
    "list = [17,22,19] \n",
    "\n",
    "# Mengkonversi list menjadi vector\n",
    "vec = np.array(list) \n",
    "\n",
    "print(vec)"
   ]
  },
  {
   "cell_type": "markdown",
   "metadata": {},
   "source": [
    "2. Diberikan 3 buah vector 3 dimensi:<br>\n",
    "𝑨 = [17 22 19]<br>\n",
    "𝑩 = [10 20 11]<br>\n",
    "𝑪 = [5 12 9]<br>\n",
    "Hitunglah:<br>\n",
    "-A+B<br>\n",
    "-B-C<br>\n",
    "-A dot C<br>\n",
    "-A x B<br>\n",
    "-norm A<br>\n",
    "-Sudut antara vektor A dan B\n"
   ]
  },
  {
   "cell_type": "code",
   "execution_count": 5,
   "metadata": {},
   "outputs": [
    {
     "name": "stdout",
     "output_type": "stream",
     "text": [
      "A + B = [27 42 30]\n",
      "B - C = [5 8 2]\n",
      "A dot C = 520\n",
      "A x B = [170 440 209]\n",
      "norm A = 33.67491648096547\n",
      "Sudut antara A dan B = 0.21971776576153962\n"
     ]
    }
   ],
   "source": [
    "# Membuat list\n",
    "A = [17,22,19] \n",
    "B = [10,20,11]\n",
    "C = [5,12,9]\n",
    "\n",
    "# Mengkonversi list menjadi vector\n",
    "A = np.array(A) \n",
    "B = np.array(B) \n",
    "C = np.array(C) \n",
    "\n",
    "# Perhitungan\n",
    "print(\"A + B =\", A + B)\n",
    "print(\"B - C =\", B - C)\n",
    "print(\"A dot C =\", A.dot(C))\n",
    "print(\"A x B =\", A * B)\n",
    "\n",
    "# Import linalg dari numpy sebagai la untuk perhitungan norm\n",
    "import numpy.linalg as la\n",
    "print(\"norm A =\", la.norm(A))\n",
    "\n",
    "# Perhitungan sudut antara A dan B dengan persamaan a dot b = norm a * norm b * cos theta\n",
    "# Mencari a dot b\n",
    "adotb = A.dot(B)\n",
    "# Mencari norm a dan norm b\n",
    "norma = la.norm(A)\n",
    "normb = la.norm(B)\n",
    "norms = norma * normb\n",
    "# Mencari cos theta\n",
    "cos = adotb / (norma * normb)\n",
    "# Maka sudut theta adalah\n",
    "print(\"Sudut antara A dan B =\", np.arccos(cos))\n"
   ]
  },
  {
   "cell_type": "markdown",
   "metadata": {},
   "source": [
    "3. Buatlah plot dari vector berikut ini kedalam bidang 2D:<br>\n",
    "𝒖 = [2, 5], 𝒗 = [3, 1]\n"
   ]
  },
  {
   "cell_type": "code",
   "execution_count": 12,
   "metadata": {},
   "outputs": [
    {
     "data": {
      "image/png": "[encoded data removed]",
      "text/plain": [
       "<Figure size 640x480 with 1 Axes>"
      ]
     },
     "metadata": {},
     "output_type": "display_data"
    }
   ],
   "source": [
    "# Import matplotlib.pyplot sebagai plt\n",
    "import matplotlib.pyplot as plt\n",
    "\n",
    "# Membuat list\n",
    "u = [2,5] \n",
    "v = [3, 1]\n",
    "\n",
    "# Mengkonversi list menjadi vector\n",
    "u = np.array(u) \n",
    "v = np.array(v)\n",
    "\n",
    "# plot() is used for plotting a line plot\n",
    "plt.arrow(0, 0, u[0], u[1], color=\"r\", head_width=0.1)\n",
    "plt.arrow(0, 0, v[0], v[1], color=\"b\", head_width=0.1)\n",
    "plt.show()"
   ]
  }
 ],
 "metadata": {
  "kernelspec": {
   "display_name": "Python 3.10.7 64-bit (microsoft store)",
   "language": "python",
   "name": "python3"
  },
  "language_info": {
   "codemirror_mode": {
    "name": "ipython",
    "version": 3
   },
   "file_extension": ".py",
   "mimetype": "text/x-python",
   "name": "python",
   "nbconvert_exporter": "python",
   "pygments_lexer": "ipython3",
   "version": "3.10.7"
  },
  "orig_nbformat": 4,
  "vscode": {
   "interpreter": {
    "hash": "66eba28a75a64fbe1a9b9c30d27f7c856726c51cbbef86297708eae4ce175db0"
   }
  }
 },
 "nbformat": 4,
 "nbformat_minor": 2
}
