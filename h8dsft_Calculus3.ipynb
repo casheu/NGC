{
 "cells": [
  {
   "cell_type": "markdown",
   "metadata": {},
   "source": [
    "# Assignment  Instructions"
   ]
  },
  {
   "cell_type": "markdown",
   "metadata": {},
   "source": [
    "Non-Graded Assignment ini dibuat guna mengevaluasi pembelajaran pada Hacktiv8 Data Science Fulltime Program khususnya pada konsep Calculus."
   ]
  },
  {
   "cell_type": "markdown",
   "metadata": {},
   "source": [
    "1. Carilah gradient dari fungsi:<br>\n",
    "3𝑥 + 4y = 5\n"
   ]
  },
  {
   "cell_type": "code",
   "execution_count": 16,
   "metadata": {},
   "outputs": [],
   "source": [
    "# Import library\n",
    "import sympy as sy\n",
    "from sympy.tensor.array import derive_by_array\n",
    "\n",
    "# Membuat symbol\n",
    "x, y = sy.symbols('x y')"
   ]
  },
  {
   "cell_type": "markdown",
   "metadata": {},
   "source": [
    "Gradien x dengan y = 5/4 - 3/4x:"
   ]
  },
  {
   "cell_type": "code",
   "execution_count": 17,
   "metadata": {},
   "outputs": [
    {
     "data": {
      "text/plain": [
       "array([-1.53061224, -1.53061224, -1.53061224, -1.53061224, -1.53061224,\n",
       "       -1.53061224, -1.53061224, -1.53061224, -1.53061224, -1.53061224,\n",
       "       -1.53061224, -1.53061224, -1.53061224, -1.53061224, -1.53061224,\n",
       "       -1.53061224, -1.53061224, -1.53061224, -1.53061224, -1.53061224,\n",
       "       -1.53061224, -1.53061224, -1.53061224, -1.53061224, -1.53061224,\n",
       "       -1.53061224, -1.53061224, -1.53061224, -1.53061224, -1.53061224,\n",
       "       -1.53061224, -1.53061224, -1.53061224, -1.53061224, -1.53061224,\n",
       "       -1.53061224, -1.53061224, -1.53061224, -1.53061224, -1.53061224,\n",
       "       -1.53061224, -1.53061224, -1.53061224, -1.53061224, -1.53061224,\n",
       "       -1.53061224, -1.53061224, -1.53061224, -1.53061224, -1.53061224])"
      ]
     },
     "execution_count": 17,
     "metadata": {},
     "output_type": "execute_result"
    }
   ],
   "source": [
    "## Membuat fungsi\n",
    "x = np.linspace(-50, 50)\n",
    "y = 5/4 - 3/4 * x\n",
    "\n",
    "# Perhitungan\n",
    "result_gradient_x = np.gradient(y)\n",
    "result_gradient_x"
   ]
  },
  {
   "cell_type": "markdown",
   "metadata": {},
   "source": [
    "Gradien y dengan x = 5/3 - 4/3y:"
   ]
  },
  {
   "cell_type": "code",
   "execution_count": 18,
   "metadata": {},
   "outputs": [
    {
     "data": {
      "text/plain": [
       "array([2.04081633, 2.04081633, 2.04081633, 2.04081633, 2.04081633,\n",
       "       2.04081633, 2.04081633, 2.04081633, 2.04081633, 2.04081633,\n",
       "       2.04081633, 2.04081633, 2.04081633, 2.04081633, 2.04081633,\n",
       "       2.04081633, 2.04081633, 2.04081633, 2.04081633, 2.04081633,\n",
       "       2.04081633, 2.04081633, 2.04081633, 2.04081633, 2.04081633,\n",
       "       2.04081633, 2.04081633, 2.04081633, 2.04081633, 2.04081633,\n",
       "       2.04081633, 2.04081633, 2.04081633, 2.04081633, 2.04081633,\n",
       "       2.04081633, 2.04081633, 2.04081633, 2.04081633, 2.04081633,\n",
       "       2.04081633, 2.04081633, 2.04081633, 2.04081633, 2.04081633,\n",
       "       2.04081633, 2.04081633, 2.04081633, 2.04081633, 2.04081633])"
      ]
     },
     "execution_count": 18,
     "metadata": {},
     "output_type": "execute_result"
    }
   ],
   "source": [
    "## Membuat fungsi\n",
    "y = np.linspace(-50, 50)\n",
    "x = 5/3 - 4/3 * y\n",
    "\n",
    "# Pehitungan\n",
    "result_gradient_y = np.gradient(y)\n",
    "result_gradient_y"
   ]
  }
 ],
 "metadata": {
  "kernelspec": {
   "display_name": "Python 3.10.7 64-bit (microsoft store)",
   "language": "python",
   "name": "python3"
  },
  "language_info": {
   "codemirror_mode": {
    "name": "ipython",
    "version": 3
   },
   "file_extension": ".py",
   "mimetype": "text/x-python",
   "name": "python",
   "nbconvert_exporter": "python",
   "pygments_lexer": "ipython3",
   "version": "3.10.7"
  },
  "orig_nbformat": 4,
  "vscode": {
   "interpreter": {
    "hash": "66eba28a75a64fbe1a9b9c30d27f7c856726c51cbbef86297708eae4ce175db0"
   }
  }
 },
 "nbformat": 4,
 "nbformat_minor": 2
}
