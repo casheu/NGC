{
 "cells": [
  {
   "cell_type": "markdown",
   "metadata": {},
   "source": [
    "# Assignment  Instructions"
   ]
  },
  {
   "cell_type": "markdown",
   "metadata": {},
   "source": [
    "▪Buatlah sebuah function yang dapat mengkonversi suhu dari kelvin ke celcius, dan celcius ke kelvin.<br>\n",
    "▪Buatlah sebuah function yang dapat mengkonversi suhu ke fahrenheit. Tambahkan parameter untuk memastikan bahwa argumen yang dimasukan adalah celcius atau kelvin. Panggil function yang pertama jika diperlukan.<br>\n",
    "▪Buatlah sebuah function yang dapat mengkonversi suhu dari fahrenheit. Berikan argumen untuk memastikan bahwa outputnya adalah celcius atau kelvin.<br>\n",
    "▪Berikan dokumentasi pada setiap baris kode yang kalian tulis."
   ]
  },
  {
   "cell_type": "markdown",
   "metadata": {},
   "source": [
    "▪Buatlah sebuah function yang dapat mengkonversi suhu dari kelvin ke celcius, dan celcius ke kelvin."
   ]
  },
  {
   "cell_type": "code",
   "execution_count": 3,
   "metadata": {},
   "outputs": [
    {
     "name": "stdout",
     "output_type": "stream",
     "text": [
      "suhu sama dengan -173.15 celcius\n"
     ]
    }
   ],
   "source": [
    "# Meminta input dari user untuk jenis dan derajat suhu\n",
    "jenis = input('pilih antara suhu kelvin dan celcius: ')\n",
    "a = float(input('ketik derajat suhu: '))\n",
    "\n",
    "# Membuat function konversi yang akan digunakan\n",
    "ktoc = a - 273.15\n",
    "ctok = a + 273.15\n",
    "\n",
    "# Apabila kelvin terpilih\n",
    "if jenis == 'kelvin':\n",
    "    print('suhu sama dengan', round((ktoc),2), 'celcius')\n",
    "# Apabila celcius terpilih\n",
    "elif jenis == 'celcius':\n",
    "    print('suhu sama dengan', round((ctok),2), 'kelvin')\n",
    "# Apabila user salah input jenis suhu\n",
    "else:\n",
    "    print('jenis suhu salah')"
   ]
  },
  {
   "cell_type": "markdown",
   "metadata": {},
   "source": [
    "Buatlah sebuah function yang dapat mengkonversi suhu ke fahrenheit. Tambahkan parameter untuk memastikan bahwa argumen yang dimasukan adalah celcius atau kelvin. Panggil function yang pertama jika diperlukan."
   ]
  },
  {
   "cell_type": "code",
   "execution_count": 4,
   "metadata": {},
   "outputs": [
    {
     "name": "stdout",
     "output_type": "stream",
     "text": [
      "suhu sama dengan 212.0 fahrenheit\n"
     ]
    }
   ],
   "source": [
    "# Meminta input dari user untuk jenis dan derajat suhu\n",
    "jenis = input('pilih antara suhu kelvin dan celcius: ')\n",
    "a = float(input('ketik derajat suhu: '))\n",
    "\n",
    "# Membuat function konversi yang akan digunakan\n",
    "ktof = ktoc * 1.8 + 32\n",
    "ctof = a * 1.8 + 32\n",
    "\n",
    "# Apabila kelvin terpilih\n",
    "if jenis == 'kelvin':\n",
    "    print('suhu sama dengan', round(ktof,2), 'fahrenheit')\n",
    "# Apabila celcius terpilih\n",
    "elif jenis == 'celcius':\n",
    "    print('suhu sama dengan', round(ctof,2), 'fahrenheit')\n",
    "# Apabila user salah input jenis suhu\n",
    "else:\n",
    "    print('jenis suhu salah')"
   ]
  },
  {
   "cell_type": "markdown",
   "metadata": {},
   "source": [
    "▪Buatlah sebuah function yang dapat mengkonversi suhu dari fahrenheit. Berikan argumen untuk memastikan bahwa outputnya adalah celcius atau kelvin."
   ]
  },
  {
   "cell_type": "code",
   "execution_count": 9,
   "metadata": {},
   "outputs": [
    {
     "name": "stdout",
     "output_type": "stream",
     "text": [
      "suhu sama dengan 37.78 celcius\n"
     ]
    }
   ],
   "source": [
    "# Meminta input dari user untuk jenis dan derajat suhu\n",
    "jenis = input('pilih antara suhu kelvin dan celcius: ')\n",
    "a = float(input('ketik derajat suhu: '))\n",
    "\n",
    "# Membuat function konversi yang akan digunakan\n",
    "ftoc = (a - 32) * 5/9\n",
    "ftok = ftoc + 273.15\n",
    "\n",
    "# Apabila kelvin terpilih\n",
    "if jenis == 'kelvin':\n",
    "    print('suhu sama dengan', round(ftok,2), 'kelvin')\n",
    "# Apabila celcius terpilih\n",
    "elif jenis == 'celcius':\n",
    "    print('suhu sama dengan', round(ftoc,2), 'celcius')\n",
    "# Apabila user salah input jenis suhu\n",
    "else:\n",
    "    print('jenis suhu salah')"
   ]
  },
  {
   "cell_type": "markdown",
   "metadata": {},
   "source": [
    "Cara alternatif:"
   ]
  },
  {
   "cell_type": "code",
   "execution_count": 10,
   "metadata": {},
   "outputs": [],
   "source": [
    "# Membuat function\n",
    "def kel_cel (float):\n",
    "    print('suhu sama dengan', round((a - 273.15),2), 'celcius')\n",
    "\n",
    "def cel_kel (float):\n",
    "    print('suhu sama dengan', round((a + 273.15),2), 'kelvin')"
   ]
  },
  {
   "cell_type": "code",
   "execution_count": 11,
   "metadata": {},
   "outputs": [
    {
     "name": "stdout",
     "output_type": "stream",
     "text": [
      "suhu sama dengan -173.15 celcius\n",
      "suhu sama dengan 373.15 kelvin\n"
     ]
    }
   ],
   "source": [
    "# Memanggil function\n",
    "kel_cel (300)\n",
    "cel_kel (300)"
   ]
  },
  {
   "cell_type": "code",
   "execution_count": 196,
   "metadata": {},
   "outputs": [],
   "source": [
    "# Membuat function\n",
    "def kel_fah (float):\n",
    "    print('suhu sama dengan', round(((a - 273.15) * 1.8 + 32),2), 'fahrenheit')\n",
    "def cel_fah (float):\n",
    "    print('suhu sama dengan', round((a * 1.8 + 32),2), 'fahrenheit')"
   ]
  },
  {
   "cell_type": "code",
   "execution_count": 210,
   "metadata": {},
   "outputs": [
    {
     "name": "stdout",
     "output_type": "stream",
     "text": [
      "suhu sama dengan 80.33 fahrenheit\n",
      "suhu sama dengan 572.0 fahrenheit\n"
     ]
    }
   ],
   "source": [
    "# Memanggil function\n",
    "kel_fah (300)\n",
    "cel_fah (300)"
   ]
  },
  {
   "cell_type": "code",
   "execution_count": 199,
   "metadata": {},
   "outputs": [],
   "source": [
    "# Membuat function\n",
    "def fah_kel (float) :\n",
    "    print('suhu sama dengan', round(((a - 32) * 5/9 + 273.15),2), 'kelvin')\n",
    "def fah_cel (float) :\n",
    "    print('suhu sama dengan', round(((a - 32) * 5/9),2), 'celcius')"
   ]
  },
  {
   "cell_type": "code",
   "execution_count": 209,
   "metadata": {},
   "outputs": [
    {
     "name": "stdout",
     "output_type": "stream",
     "text": [
      "suhu sama dengan 422.04 kelvin\n",
      "suhu sama dengan 148.89 celcius\n"
     ]
    }
   ],
   "source": [
    "# Memanggil function\n",
    "fah_kel (300)\n",
    "fah_cel (300)"
   ]
  }
 ],
 "metadata": {
  "kernelspec": {
   "display_name": "Python 3.10.7 64-bit (microsoft store)",
   "language": "python",
   "name": "python3"
  },
  "language_info": {
   "codemirror_mode": {
    "name": "ipython",
    "version": 3
   },
   "file_extension": ".py",
   "mimetype": "text/x-python",
   "name": "python",
   "nbconvert_exporter": "python",
   "pygments_lexer": "ipython3",
   "version": "3.10.7"
  },
  "orig_nbformat": 4,
  "vscode": {
   "interpreter": {
    "hash": "66eba28a75a64fbe1a9b9c30d27f7c856726c51cbbef86297708eae4ce175db0"
   }
  }
 },
 "nbformat": 4,
 "nbformat_minor": 2
}
